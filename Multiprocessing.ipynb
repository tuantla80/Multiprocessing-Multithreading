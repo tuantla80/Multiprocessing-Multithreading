{
 "cells": [
  {
   "cell_type": "markdown",
   "metadata": {},
   "source": [
    "### 1. Multiprocessing"
   ]
  },
  {
   "cell_type": "markdown",
   "metadata": {},
   "source": [
    "> 1. What is a multiprocessing?  \n",
    "> &rarr; It is to run a program in multiple CPU (core).  \n",
    "> 2. When it is good for?   \n",
    "> &rarr; It is good for multi CPU bound problem. (Such as a problem which is tightly bound 'for' loop)    \n",
    "> 3. Multiprocessing properties:  \n",
    "    Seperate memory    \n",
    "> 4. **For multiprocessing, it is suggested to run in Python instead of Jupyter Notebook**  \n",
    "> 5. Note: sklearn has already implemented multiprocessing into many algorithms.  \n",
    "**n_jobs** :number of processes it should use to enable multiprocessing."
   ]
  },
  {
   "cell_type": "markdown",
   "metadata": {},
   "source": [
    "#### How many logical CPUs in your system?"
   ]
  },
  {
   "cell_type": "code",
   "execution_count": 2,
   "metadata": {},
   "outputs": [
    {
     "data": {
      "text/plain": [
       "56"
      ]
     },
     "execution_count": 2,
     "metadata": {},
     "output_type": "execute_result"
    }
   ],
   "source": [
    "import multiprocessing\n",
    "multiprocessing.cpu_count()"
   ]
  },
  {
   "cell_type": "markdown",
   "metadata": {},
   "source": [
    "#### 1.1 Pool class: Part 1. Input argument is a number and get return values"
   ]
  },
  {
   "cell_type": "code",
   "execution_count": null,
   "metadata": {},
   "outputs": [],
   "source": [
    "# It runs on Python enviroment\n",
    "import multiprocessing\n",
    "from multiprocessing import Pool, current_process\n",
    "import time\n",
    "\n",
    "def do_computation(v):\n",
    "    print('run at {}'.format(current_process().name))\n",
    "    time.sleep(v)       \n",
    "    return v*v    \n",
    "\n",
    "if __name__ == \"__main__\":  \n",
    "    num_processes = multiprocessing.cpu_count()\n",
    "    print('num_processes = ', num_processes)\n",
    "    vs = [1, 2, 3, 4]  # make input args as iterable\n",
    "\n",
    "    with Pool(num_processes) as p:\n",
    "        results = p.map(func=do_computation, \n",
    "                        iterable=vs)\n",
    "    print('results = ', results)\n",
    "\n",
    "# OUTPUT\n",
    "# C:\\ProgramData\\Anaconda3\\python.exe D:/multiprocessing/mp_pool_1.py\n",
    "# num_processes =  56\n",
    "# run at SpawnPoolWorker-2\n",
    "# run at SpawnPoolWorker-1\n",
    "# run at SpawnPoolWorker-3\n",
    "# run at SpawnPoolWorker-4\n",
    "# results =  [1, 4, 9, 16]"
   ]
  },
  {
   "cell_type": "markdown",
   "metadata": {},
   "source": [
    "#### 1.1 Pool class: Part 2. Multiple input arguments (list, string, etc) and get return values"
   ]
  },
  {
   "cell_type": "code",
   "execution_count": null,
   "metadata": {},
   "outputs": [],
   "source": [
    "import multiprocessing\n",
    "from multiprocessing import Pool, current_process\n",
    "import time\n",
    "\n",
    "\n",
    "def do_expensive_computation(values, name):\n",
    "    results = []\n",
    "    for v in values:\n",
    "        time.sleep(v)  # Assuming this part will take time in real application\n",
    "        print('run at {}'.format(current_process().name))\n",
    "        results.append({name: v * 2})  # Just an example to return something\n",
    "    return results\n",
    "\n",
    "\n",
    "if __name__ == \"__main__\":\n",
    "    num_processes = multiprocessing.cpu_count()\n",
    "    print('num_processes = ', num_processes)\n",
    "\n",
    "    # Prepare list of arguments for do_expensive_computation: list of tuple\n",
    "    # since values argument is list and name is string we have to specify them.\n",
    "    args = [([1], 'test1'), ([2], 'test2'), ([3], 'test3'), ([4], 'test4')]\n",
    "\n",
    "    with Pool(num_processes) as p:\n",
    "        \n",
    "        # Note of using starmap() instead of map() since we input a list of tuple\n",
    "        results = p.starmap(func=do_expensive_computation,\n",
    "                            iterable=args)\n",
    "    print('results = ', results)\n",
    "    \n",
    "# OUTPUT\n",
    "# C:\\ProgramData\\Anaconda3\\python.exe D:/multiprocessing/mp_pool_2.py\n",
    "# num_processes =  56\n",
    "# run at SpawnPoolWorker-1\n",
    "# run at SpawnPoolWorker-3\n",
    "# run at SpawnPoolWorker-5\n",
    "# run at SpawnPoolWorker-2\n",
    "# results =  [[{'test1': 2}], [{'test2': 4}], [{'test3': 6}], [{'test4': 8}]]\n",
    "#\n",
    "#            [{'test1': 2}] is output of function at SpawnPoolWorker-1\n",
    "#            [{'test2': 4}] is output of function at SpawnPoolWorker-3 and so on\n",
    "\n",
    "#------------------------------------------------------------------------\n",
    "\n",
    "# If RUNNING only 2 CPU by setting num_processes = 2, the output is as below\n",
    "# num_processes =  2\n",
    "# run at SpawnPoolWorker-1\n",
    "# run at SpawnPoolWorker-2\n",
    "# run at SpawnPoolWorker-1\n",
    "# run at SpawnPoolWorker-2\n",
    "# results =  [[{'test1': 2}], [{'test2': 4}], [{'test3': 6}], [{'test4': 8}]]"
   ]
  },
  {
   "cell_type": "markdown",
   "metadata": {},
   "source": [
    "#### 2. Process class "
   ]
  },
  {
   "cell_type": "code",
   "execution_count": null,
   "metadata": {},
   "outputs": [],
   "source": [
    "from multiprocessing import Process\n",
    "\n",
    "def print_func(city_name='Seoul'):\n",
    "    print('Name of city is {}'.format(city_name))\n",
    "    # print(f'Name of city is {city_name}') # using f string function\n",
    "\n",
    "if __name__ == '__main__':\n",
    "    city_names = ['Hanoi', 'Seoul', 'Paris']\n",
    "    procs = []   # list of process\n",
    "    \n",
    "    # Initialize (parallel) for each process\n",
    "    for city_name in city_names:\n",
    "        proc = Process(target=print_func,  # target is 'target' function\n",
    "                       args=(city_name,))  # args: arguments of target function.\n",
    "                                           # in this case, args is a tuple with extra comma\n",
    "        \n",
    "        proc.start()   # just inialiaze: start to run\n",
    "        ## NOTE DO NOT put proc.join() because we want to run parallel\n",
    "        procs.append(proc)\n",
    "\n",
    "    # Run (parallel) the processes to complete.\n",
    "    for proc in procs:\n",
    "        proc.join()  # join means the process need to be finished \n",
    "                     # before running the next code in script\n",
    "    print('The end')\n",
    "\n",
    "# OUTPUT:\n",
    "# Name of city is Seoul\n",
    "# Name of city is Hanoi\n",
    "# Name of city is Paris\n",
    "# The end"
   ]
  },
  {
   "cell_type": "markdown",
   "metadata": {},
   "source": [
    "#### 3. Queue class"
   ]
  },
  {
   "cell_type": "markdown",
   "metadata": {},
   "source": [
    "#### Example 1"
   ]
  },
  {
   "cell_type": "code",
   "execution_count": null,
   "metadata": {},
   "outputs": [],
   "source": [
    "from multiprocessing import Queue\n",
    "\n",
    "city_names = ['Hanoi', 'Seoul', 'Paris']\n",
    "count = 1\n",
    "\n",
    "queue = Queue()  # instantiating a queue object\n",
    "\n",
    "# Put items to queue\n",
    "print('Put items to queue')\n",
    "for city_name in city_names:\n",
    "    print('city name = {}, count = {}'.format(city_name, count))\n",
    "    queue.put(city_name)\n",
    "    count += 1\n",
    "    \n",
    "print('\\nGetting (Popping) items to queue')\n",
    "cnt = 0\n",
    "while not queue.empty():\n",
    "    print('city name = {}, cnt = {}'.format(queue.get(), cnt))\n",
    "    cnt += 1\n",
    "    \n",
    "# OUTPUT:\n",
    "# Put items to queue\n",
    "# city name = Hanoi, count = 1\n",
    "# city name = Seoul, count = 2\n",
    "# city name = Paris, count = 3\n",
    "\n",
    "# Getting (Popping) items to queue\n",
    "# city name = Hanoi, cnt = 0\n",
    "# city name = Seoul, cnt = 1\n",
    "# city name = Paris, cnt = 2"
   ]
  },
  {
   "cell_type": "markdown",
   "metadata": {},
   "source": [
    "#### Example 2"
   ]
  },
  {
   "cell_type": "code",
   "execution_count": null,
   "metadata": {},
   "outputs": [],
   "source": [
    "from multiprocessing import Process, Queue, Lock, current_process\n",
    "import time\n",
    "import queue  # imported for using \"queue.Empty\" exception\n",
    "\n",
    "def do_tasks(task_to_do, task_done):\n",
    "    while True:\n",
    "        try:\n",
    "            task = task_to_do.get_nowait()\n",
    "        except queue.Empty:\n",
    "            break\n",
    "        else:  # do it if no exception has been raised, add task to task_done queue\n",
    "            print(task)\n",
    "            task_done.put(task + 'done by ' + current_process().name)\n",
    "            time.sleep(0.5)  # [s]\n",
    "    # End of while\n",
    "    return True\n",
    "\n",
    "if __name__ == \"__main__\":\n",
    "    num_tasks = 5\n",
    "    num_processes = 4\n",
    "    task_to_do = Queue()\n",
    "    task_done = Queue()\n",
    "    \n",
    "    processes = []\n",
    "    \n",
    "    for i in range(num_tasks):\n",
    "        task_to_do.put('Task number ' + str(i))\n",
    "        \n",
    "    # Creating process\n",
    "    for _ in range(num_processes):\n",
    "        p = Process(target=do_tasks, args=(task_to_do, task_done))\n",
    "        processes.append(p)\n",
    "        p.start()\n",
    "        \n",
    "    # Completing processes\n",
    "    for p in processes:\n",
    "        p.join()\n",
    "        \n",
    "    while not task_done.empty():\n",
    "        print(task_done.get())   \n",
    "        \n",
    "# OUPTPUT\n",
    "# Task number 0\n",
    "# Task number 1\n",
    "# Task number 2\n",
    "# Task number 3\n",
    "# Task number 4\n",
    "# Task number 0: done by Process-2\n",
    "# Task number 1: done by Process-4\n",
    "# Task number 2: done by Process-1\n",
    "# Task number 3: done by Process-3\n",
    "# Task number 4: done by Process-2"
   ]
  }
 ],
 "metadata": {
  "kernelspec": {
   "display_name": "Python 3",
   "language": "python",
   "name": "python3"
  },
  "language_info": {
   "codemirror_mode": {
    "name": "ipython",
    "version": 3
   },
   "file_extension": ".py",
   "mimetype": "text/x-python",
   "name": "python",
   "nbconvert_exporter": "python",
   "pygments_lexer": "ipython3",
   "version": "3.7.4"
  }
 },
 "nbformat": 4,
 "nbformat_minor": 2
}
