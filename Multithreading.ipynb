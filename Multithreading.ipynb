{
 "cells": [
  {
   "cell_type": "markdown",
   "metadata": {},
   "source": [
    "### 2. Multithreading"
   ]
  },
  {
   "cell_type": "markdown",
   "metadata": {},
   "source": [
    "> 1. What is a thread?  \n",
    "> &rarr; Thread is the smallest unit (taks or program) that is scheduled to be done by an Operating System.\n",
    "  \n",
    "> 2. When it is good for?   \n",
    "> &rarr; It is good for Network and I/O bound problem such as download images from a website.  \n",
    "> &rarr; Especially good to use on tasks that run pretty much independent of each other.\n",
    "  \n",
    "> 3. Thread properties:  \n",
    "    One or multi threads can run parallel on a process (CPU).  \n",
    "    Threads in same process (CPU) share the state and space (memory).  \n",
    "    All threads should communicate back to the main thread."
   ]
  },
  {
   "cell_type": "code",
   "execution_count": 1,
   "metadata": {},
   "outputs": [],
   "source": [
    "import threading\n",
    "from threading import Thread\n",
    "import time"
   ]
  },
  {
   "cell_type": "markdown",
   "metadata": {},
   "source": [
    "#### Get main thread"
   ]
  },
  {
   "cell_type": "code",
   "execution_count": 3,
   "metadata": {},
   "outputs": [
    {
     "name": "stdout",
     "output_type": "stream",
     "text": [
      "main thread =  <_MainThread(MainThread, started 10188)>\n"
     ]
    }
   ],
   "source": [
    "print('main thread = ', threading.main_thread())"
   ]
  },
  {
   "cell_type": "markdown",
   "metadata": {},
   "source": [
    "#### Get list of all active thread"
   ]
  },
  {
   "cell_type": "code",
   "execution_count": 4,
   "metadata": {},
   "outputs": [
    {
     "name": "stdout",
     "output_type": "stream",
     "text": [
      "Thread name is MainThread\n",
      "Thread name is Thread-4\n",
      "Thread name is Thread-5\n",
      "Thread name is IPythonHistorySavingThread\n",
      "Thread name is Thread-3\n"
     ]
    }
   ],
   "source": [
    "for thread in threading.enumerate():\n",
    "    print('Thread name is {}'.format(thread.getName()))"
   ]
  },
  {
   "cell_type": "markdown",
   "metadata": {},
   "source": [
    "#### Get number of active thread"
   ]
  },
  {
   "cell_type": "code",
   "execution_count": 5,
   "metadata": {},
   "outputs": [
    {
     "data": {
      "text/plain": [
       "5"
      ]
     },
     "execution_count": 5,
     "metadata": {},
     "output_type": "execute_result"
    }
   ],
   "source": [
    "threading.active_count()"
   ]
  },
  {
   "cell_type": "markdown",
   "metadata": {},
   "source": [
    "#### Use Timer() to run a new thread at a specific time"
   ]
  },
  {
   "cell_type": "code",
   "execution_count": 6,
   "metadata": {},
   "outputs": [
    {
     "name": "stdout",
     "output_type": "stream",
     "text": [
      "It will print after 3 seconds!\n"
     ]
    }
   ],
   "source": [
    "def to_do():\n",
    "    print(\"It will print after 3 seconds!\")\n",
    "\n",
    "thread = threading.Timer(3, to_do)\n",
    "thread.start()"
   ]
  },
  {
   "cell_type": "markdown",
   "metadata": {},
   "source": [
    "#### Thread: simple example"
   ]
  },
  {
   "cell_type": "code",
   "execution_count": 8,
   "metadata": {},
   "outputs": [
    {
     "name": "stdout",
     "output_type": "stream",
     "text": [
      "Thread <Thread(Thread-11, started 13552)> going to sleep for 3 seconds\n",
      "Current Thread count 6 \n",
      "Thread <Thread(Thread-12, started 13972)> going to sleep for 3 seconds\n",
      "Current Thread count 7 \n",
      "Thread <Thread(Thread-11, started 13552)> is now wake up\n",
      "Thread <Thread(Thread-12, started 13972)> is now wake up\n"
     ]
    }
   ],
   "source": [
    "def make_sleep(i):\n",
    "    print('Thread {} going to sleep for 3 seconds'\n",
    "          .format(threading.current_thread()))\n",
    "    time.sleep(3)\n",
    "    print('Thread {} is now wake up'\n",
    "          .format(threading.current_thread()))\n",
    "\n",
    "number_of_threads = 2\n",
    "for i in range(number_of_threads):\n",
    "    th = Thread(target=make_sleep,  # target is 'target' function\n",
    "                args=(i,))          # args: arguments of target function.\n",
    "                                    # in this case, args is a tuple with extra comma\n",
    "    th.start()  # initialize the thread that has been bounded to the target function\n",
    "    print(\"Current Thread count {} \"\n",
    "          .format(threading.active_count()))\n"
   ]
  },
  {
   "cell_type": "markdown",
   "metadata": {},
   "source": [
    "### Normal code vs. Multitheading"
   ]
  },
  {
   "cell_type": "code",
   "execution_count": null,
   "metadata": {},
   "outputs": [],
   "source": [
    "import time\n",
    "from threading import Thread\n",
    "def do_expensive_computation(values):\n",
    "    results = []\n",
    "    for v in values:\n",
    "        time.sleep(v)  # Assuming this part will take time\n",
    "        results.append(v*2) # Just an example to return something \n",
    "    return results    \n",
    "\n",
    "values = [1, 2, 3, 4]"
   ]
  },
  {
   "cell_type": "markdown",
   "metadata": {},
   "source": [
    "#### Normal case"
   ]
  },
  {
   "cell_type": "code",
   "execution_count": null,
   "metadata": {},
   "outputs": [],
   "source": [
    "start_time = time.time()\n",
    "results = do_expensive_computation(values)\n",
    "end_time=time.time()\n",
    "print('results = ', results)\n",
    "print('Total running time = {}'.format(end_time - start_time))\n",
    "\n",
    "# OUTPUT:\n",
    "# results =  [2, 4, 6, 8]\n",
    "# Total running time = 10.0024"
   ]
  },
  {
   "cell_type": "markdown",
   "metadata": {},
   "source": [
    "#### Single threading: Part 1. Cannot get return values"
   ]
  },
  {
   "cell_type": "code",
   "execution_count": null,
   "metadata": {},
   "outputs": [],
   "source": [
    "start_time = time.time()\n",
    "th = Thread(target=do_expensive_computation, \n",
    "            args=(values,))\n",
    "th.start()\n",
    "results = th.join()\n",
    "end_time=time.time()\n",
    "print('results = ', results)\n",
    "print('Total running time = {}'.format(end_time - start_time))\n",
    "\n",
    "# OUTPUT:\n",
    "# results =  None  <-- CANNOT have a return value\n",
    "# Total running time = 10.0033: No improvement due to run on ONLY one thread"
   ]
  },
  {
   "cell_type": "markdown",
   "metadata": {},
   "source": [
    "#### Single threading: Part 2. Using Queue to get return values"
   ]
  },
  {
   "cell_type": "code",
   "execution_count": null,
   "metadata": {},
   "outputs": [],
   "source": [
    "import queue\n",
    "start_time = time.time()\n",
    "\n",
    "que = queue.Queue()\n",
    "th = Thread(target=lambda q, \n",
    "            arg1: q.put(do_expensive_computation(arg1)), \n",
    "            args=(que, values,))\n",
    "\n",
    "th.start()\n",
    "th.join()\n",
    "results = que.get()\n",
    "\n",
    "end_time=time.time()\n",
    "print('results = ', results)\n",
    "print('Total running time = {}'.format(end_time - start_time))\n",
    "\n",
    "# OUTPUT:\n",
    "# results =  [2, 4, 6, 8]\n",
    "# Total running time = 10.004"
   ]
  },
  {
   "cell_type": "markdown",
   "metadata": {},
   "source": [
    "#### Multithreading: PART 1. Note about joint()"
   ]
  },
  {
   "cell_type": "code",
   "execution_count": null,
   "metadata": {},
   "outputs": [],
   "source": [
    "start_time = time.time()\n",
    "threads = []  # create a list of threads\n",
    "list_que = []\n",
    "\n",
    "list_values = [[1, 4], [2, 3]]  # change values above to list of values\n",
    "                                # Here we run TWO thread so we divide it as two sublist.\n",
    "que = queue.Queue()\n",
    "for values in list_values: \n",
    "    th = Thread(target=lambda q, \n",
    "                arg1: q.put(do_expensive_computation(arg1)), \n",
    "                args=(que, values,))\n",
    "    th.start()\n",
    "    threads.append(th)\n",
    "    list_que.append(que)\n",
    "\n",
    "# Now join the output\n",
    "for th in threads:\n",
    "    th.join()\n",
    " \n",
    "# NOTE: we get que from list_que\n",
    "results = [que.get() for que in list_que]\n",
    "\n",
    "end_time=time.time()\n",
    "print('results = ', results)\n",
    "print('Total running time = {}'.format(end_time - start_time))\n",
    "\n",
    "# OUTPUT:\n",
    "# results =  [[4, 6], [2, 8]]\n",
    "# Total running time = 5.002: By using 2 thread with smart divide the list of values. It speeds up 2 times."
   ]
  },
  {
   "cell_type": "markdown",
   "metadata": {},
   "source": [
    "#### Multithreading: PART 2. NOTE about joint()"
   ]
  },
  {
   "cell_type": "markdown",
   "metadata": {},
   "source": [
    "> If not dividing the list of values smartly, it will take longer time than PART 1  \n",
    "> Because of calling join() prevents the program from progressing until all process are finished."
   ]
  },
  {
   "cell_type": "code",
   "execution_count": null,
   "metadata": {},
   "outputs": [],
   "source": [
    "import queue\n",
    "start_time = time.time()\n",
    "threads = []  # create a list of threads\n",
    "list_que = []\n",
    "\n",
    "list_values = [[1, 2], [3, 4]]  # we run TWO thread and we simply divide it as two sublist.\n",
    "\n",
    "que = queue.Queue()\n",
    "for values in list_values: \n",
    "    th = Thread(target=lambda q, \n",
    "                arg1: q.put(do_expensive_computation(arg1)), \n",
    "                args=(que, values,))\n",
    "    th.start()\n",
    "    threads.append(th)\n",
    "    list_que.append(que)\n",
    "\n",
    "# Now join the output\n",
    "for th in threads:\n",
    "    th.join()\n",
    " \n",
    "# NOTE: we get que from list_que\n",
    "results = [que.get() for que in list_que]\n",
    "\n",
    "end_time=time.time()\n",
    "print('results = ', results)\n",
    "print('Total running time = {}'.format(end_time - start_time))\n",
    "\n",
    "# OUTPUT:\n",
    "# results =   [[2, 4], [6, 8]]\n",
    "# Total running time = 7.005: Because first thread takes around 3s but the second thread takes around 7s"
   ]
  },
  {
   "cell_type": "markdown",
   "metadata": {},
   "source": [
    "#### Multithreading: PART 3. Using ThreadPool()\n",
    "> Note:  Tensorflow uses a thread pool to transform data in parallel. https://www.tensorflow.org/api_docs/python/tf/data/Dataset#interleave"
   ]
  },
  {
   "cell_type": "code",
   "execution_count": null,
   "metadata": {},
   "outputs": [],
   "source": [
    "from multiprocessing.pool import ThreadPool\n",
    "start_time = time.time()\n",
    "\n",
    "list_values = [[1, 2], [3, 4]]  # we run TWO thread and we simply divide it as two sublist.\n",
    "num_of_threads = len(list_values)\n",
    "results = []\n",
    "\n",
    "pool = ThreadPool(num_of_threads)\n",
    "\n",
    "for i in range(0, num_of_threads):\n",
    "    values = list_values[i] \n",
    "    results.append(pool.apply_async(do_expensive_computation, (values,))) \n",
    "\n",
    "results = [r.get() for r in results]\n",
    "pool.close()\n",
    "pool.join()\n",
    "end_time=time.time()\n",
    "print('results = ', results)\n",
    "print('Total running time = {}'.format(end_time - start_time))\n",
    "\n",
    "# OUTPUT:\n",
    "# results =   [[2, 4], [6, 8]]\n",
    "# Total running time = 7.006: Because first thread takes around 3s but the second thread takes around 7s"
   ]
  }
 ],
 "metadata": {
  "kernelspec": {
   "display_name": "Python 3",
   "language": "python",
   "name": "python3"
  },
  "language_info": {
   "codemirror_mode": {
    "name": "ipython",
    "version": 3
   },
   "file_extension": ".py",
   "mimetype": "text/x-python",
   "name": "python",
   "nbconvert_exporter": "python",
   "pygments_lexer": "ipython3",
   "version": "3.7.4"
  }
 },
 "nbformat": 4,
 "nbformat_minor": 2
}
