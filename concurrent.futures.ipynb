{
 "cells": [
  {
   "cell_type": "markdown",
   "metadata": {},
   "source": [
    "### 3. concurrent.futures module: a high-level interface for asynchronously executing callables.\n",
    "> Both thread (ThreadPoolExecutor) and process (ProcessPoolExecutor) implement in the same interface."
   ]
  },
  {
   "cell_type": "markdown",
   "metadata": {},
   "source": [
    "> Note do_expensive_computation() is the same for both below examples but keep it the in the different cells for self-contain code."
   ]
  },
  {
   "cell_type": "markdown",
   "metadata": {},
   "source": [
    "### 1. Multiprocessing: ProcessPoolExecutor"
   ]
  },
  {
   "cell_type": "code",
   "execution_count": null,
   "metadata": {},
   "outputs": [],
   "source": [
    "import concurrent.futures\n",
    "from multiprocessing import current_process\n",
    "import time\n",
    "\n",
    "def do_expensive_computation(values, name):\n",
    "    '''\n",
    "    INPUT:\n",
    "    values: a list of value\n",
    "    name: a string of name\n",
    "    '''\n",
    "    assert isinstance(values, (list, tuple))\n",
    "    assert isinstance(name, str)\n",
    "    results = []\n",
    "    for v in values:\n",
    "        time.sleep(v)  # Assuming this part will take time in real application\n",
    "        print('run at {}'.format(current_process().name))\n",
    "        results.append({name: v * 2})  # Just an example to return something\n",
    "    return results\n",
    "\n",
    "with concurrent.futures.ProcessPoolExecutor(max_workers=None) as executor:\n",
    "    list_values = [[1], [2], [3]]  \n",
    "    names = ['test 1', 'test 2', 'test 3']\n",
    "    results = executor.map(do_expensive_computation,   # target function\n",
    "                           list_values,  # the first input argument \n",
    "                           names         # the second input argument\n",
    "                          )\n",
    "    \n",
    "print('results = ', results)\n",
    "print('list results = ', list(results))\n",
    "\n",
    "'''\n",
    " NOTE:\n",
    "    if max_workers=None --> use all avaible processes (CPUs)\n",
    "    Otherwise, specify the number of CPUs such as max_workers=2\n",
    "'''\n",
    "\n",
    "# OUTPUT. \n",
    "# run at Process-2\n",
    "# run at Process-3\n",
    "# run at Process-4\n",
    "# results =  <generator object result_iterator at 0x7f93a2b641b0>\n",
    "# list results =  [[{'test 1': 2}], [{'test 2': 4}], [{'test 3': 6}]]"
   ]
  },
  {
   "cell_type": "markdown",
   "metadata": {},
   "source": [
    "### 2. Threading: ThreadPoolExecutor"
   ]
  },
  {
   "cell_type": "code",
   "execution_count": 3,
   "metadata": {},
   "outputs": [
    {
     "name": "stdout",
     "output_type": "stream",
     "text": [
      "run at MainProcess at <Thread(ThreadPoolExecutor-2_0, started daemon 7300)>\n",
      "run at MainProcess at <Thread(ThreadPoolExecutor-2_1, started daemon 7268)>\n",
      "run at MainProcess at <Thread(ThreadPoolExecutor-2_2, started daemon 1096)>\n",
      "results =  <generator object Executor.map.<locals>.result_iterator at 0x000000C4DF038138>\n",
      "list results =  [[{'test 1': 2}], [{'test 2': 4}], [{'test 3': 6}]]\n"
     ]
    }
   ],
   "source": [
    "# Code is almost the same as ProcessPoolExecutor(Just change ProcessPoolExecutor to ThreadPoolExecutor)\n",
    "import concurrent.futures\n",
    "from multiprocessing import current_process\n",
    "import threading\n",
    "import time\n",
    "\n",
    "def do_expensive_computation(values, name):\n",
    "    '''\n",
    "    INPUT:\n",
    "    values: a list of value\n",
    "    name: a string of name\n",
    "    '''\n",
    "    assert isinstance(values, (list, tuple))\n",
    "    assert isinstance(name, str)\n",
    "    results = []\n",
    "    for v in values:\n",
    "        time.sleep(v)  # Assuming this part will take time in real application\n",
    "        print('run at {} at {}'.format(format(current_process().name), threading.current_thread()))\n",
    "        results.append({name: v * 2})  # Just an example to return something\n",
    "    return results\n",
    "\n",
    "with concurrent.futures.ThreadPoolExecutor(max_workers=None) as executor:\n",
    "    list_values = [[1], [2], [3]]  \n",
    "    names = ['test 1', 'test 2', 'test 3']\n",
    "    results = executor.map(do_expensive_computation,   # target function\n",
    "                           list_values,  # the first input argument \n",
    "                           names         # the second input argument\n",
    "                          )\n",
    "    \n",
    "print('results = ', results)\n",
    "print('list results = ', list(results))"
   ]
  }
 ],
 "metadata": {
  "kernelspec": {
   "display_name": "Python 3",
   "language": "python",
   "name": "python3"
  },
  "language_info": {
   "codemirror_mode": {
    "name": "ipython",
    "version": 3
   },
   "file_extension": ".py",
   "mimetype": "text/x-python",
   "name": "python",
   "nbconvert_exporter": "python",
   "pygments_lexer": "ipython3",
   "version": "3.7.3"
  }
 },
 "nbformat": 4,
 "nbformat_minor": 2
}
